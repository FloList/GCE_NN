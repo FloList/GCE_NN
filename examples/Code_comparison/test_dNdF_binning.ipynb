{
 "cells": [
  {
   "cell_type": "code",
   "execution_count": 162,
   "id": "initial_id",
   "metadata": {
    "collapsed": true,
    "ExecuteTime": {
     "end_time": "2024-03-12T15:50:42.670565Z",
     "start_time": "2024-03-12T15:50:42.637856Z"
    }
   },
   "outputs": [
    {
     "data": {
      "text/plain": "<IPython.core.display.HTML object>",
      "text/html": "<style>.container { width:95% !important; }</style>"
     },
     "metadata": {},
     "output_type": "display_data"
    },
    {
     "name": "stdout",
     "output_type": "stream",
     "text": [
      "The autoreload extension is already loaded. To reload it, use:\n",
      "  %reload_ext autoreload\n"
     ]
    }
   ],
   "source": [
    "import numpy as np\n",
    "import matplotlib as mpl\n",
    "import matplotlib.pyplot as plt\n",
    "from GCE.pdf_sampler import PDFSampler\n",
    "\n",
    "# Rescale font sizes\n",
    "rs = 0.8\n",
    "mpl.rcParams['font.family'] = 'serif'\n",
    "mpl.rcParams['font.serif'] = 'CMU Serif'\n",
    "mpl.rcParams['text.usetex'] = True\n",
    "mpl.rcParams['axes.linewidth'] = 1.0\n",
    "mpl.rcParams['axes.labelsize'] = 25*rs\n",
    "mpl.rcParams['xtick.top'] = True\n",
    "mpl.rcParams['xtick.major.size'] = 5\n",
    "mpl.rcParams['xtick.minor.size'] = 2.5\n",
    "mpl.rcParams['xtick.major.width'] = 1.0\n",
    "mpl.rcParams['xtick.minor.width'] = 0.75\n",
    "mpl.rcParams['xtick.major.pad'] = 8\n",
    "mpl.rcParams['xtick.labelsize'] = 22*rs\n",
    "mpl.rcParams['xtick.direction'] = 'in'\n",
    "mpl.rcParams['xtick.minor.visible'] = True\n",
    "mpl.rcParams['ytick.right'] = True\n",
    "mpl.rcParams['ytick.major.size'] = 5\n",
    "mpl.rcParams['ytick.minor.size'] = 2.5\n",
    "mpl.rcParams['ytick.major.width'] = 1.0\n",
    "mpl.rcParams['ytick.minor.width'] = 0.75\n",
    "mpl.rcParams['ytick.major.pad'] = 8\n",
    "mpl.rcParams['ytick.labelsize'] = 22*rs\n",
    "mpl.rcParams['ytick.direction'] = 'in'\n",
    "mpl.rcParams['ytick.minor.visible'] = True\n",
    "\n",
    "from IPython.core.display import display, HTML\n",
    "display(HTML(\"<style>.container { width:95% !important; }</style>\"))\n",
    "\n",
    "%matplotlib inline\n",
    "%load_ext autoreload\n",
    "%autoreload 2"
   ]
  },
  {
   "cell_type": "code",
   "outputs": [],
   "source": [
    "# Nick's code for the dNdF\n",
    "def dNdF(F, A, Fb, n1, n2):\n",
    "    if F >= Fb:\n",
    "        return A * (F / Fb) ** (-n1)\n",
    "    else:\n",
    "        return A * (F / Fb) ** (-n2)\n",
    "\n",
    "\n",
    "dNdF = np.vectorize(dNdF)\n",
    "\n",
    "\n",
    "def CDF(F, Fb, n1, n2):\n",
    "    if F < Fb:\n",
    "        return (n1 - 1.) / (n1 - n2) * (F / Fb) ** (1. - n2)\n",
    "    else:\n",
    "        return 1. - (1. - n2) / (n1 - n2) * (F / Fb) ** (1. - n1)\n",
    "\n",
    "\n",
    "CDF = np.vectorize(CDF)"
   ],
   "metadata": {
    "collapsed": false,
    "ExecuteTime": {
     "end_time": "2024-03-12T15:50:42.738562Z",
     "start_time": "2024-03-12T15:50:42.718201Z"
    }
   },
   "id": "2ebbbef843f3c5dd",
   "execution_count": 163
  },
  {
   "cell_type": "code",
   "outputs": [],
   "source": [
    "# Parameters\n",
    "Ag = np.array([8.e10, 8.5e9, 3.1e12])\n",
    "Fbg = np.array([2.e-11, 1.e-10, 1.e-12])\n",
    "n1g = np.array([2.06, 2.8, 1.9])\n",
    "n2g = np.array([-0.5, -0.1, -1.7])\n",
    "N_tot = Ag * Fbg * (1 / (n1g - 1) + 1 / (1 - n2g))"
   ],
   "metadata": {
    "collapsed": false,
    "ExecuteTime": {
     "end_time": "2024-03-12T15:50:42.796023Z",
     "start_time": "2024-03-12T15:50:42.774503Z"
    }
   },
   "id": "e304f9fcd12bd124",
   "execution_count": 164
  },
  {
   "cell_type": "code",
   "outputs": [],
   "source": [
    "i = 2  # only look at one set of parameters"
   ],
   "metadata": {
    "collapsed": false,
    "ExecuteTime": {
     "end_time": "2024-03-12T15:50:42.836671Z",
     "start_time": "2024-03-12T15:50:42.817414Z"
    }
   },
   "id": "f1e1a3d1c7ba5618",
   "execution_count": 165
  },
  {
   "cell_type": "code",
   "outputs": [
    {
     "name": "stderr",
     "output_type": "stream",
     "text": [
      "/tmp/ipykernel_79262/2818690755.py:4: RuntimeWarning: invalid value encountered in log10\n",
      "  dlogF = np.diff(np.log10(bins_dndf))[1]\n"
     ]
    }
   ],
   "source": [
    "# Simulate a \"NN-like analysis\"\n",
    "bins_dndf = np.asarray([-np.infty] + list(np.logspace(-12.5, -7.0, 21)) + [np.infty])  # bins for SCD\n",
    "\n",
    "dlogF = np.diff(np.log10(bins_dndf))[1]\n",
    "bins_ext = np.copy(bins_dndf) \n",
    "bins_ext[0] = 10 ** (np.log10(bins_ext[1]) - dlogF)\n",
    "bins_ext[-1] = 10 ** (np.log10(bins_ext[-2]) + dlogF)\n",
    "bin_centers = 10 ** (np.log10(bins_ext[:-1]) + np.diff(np.log10(bins_ext)) / 2)\n",
    "\n",
    "power_of_f_dndf = 1.0\n",
    "n_ps = 100000"
   ],
   "metadata": {
    "collapsed": false,
    "ExecuteTime": {
     "end_time": "2024-03-12T15:50:42.917119Z",
     "start_time": "2024-03-12T15:50:42.894059Z"
    }
   },
   "id": "fbc5621016d9d136",
   "execution_count": 166
  },
  {
   "cell_type": "code",
   "outputs": [
    {
     "name": "stdout",
     "output_type": "stream",
     "text": [
      "[2.30409298e-13 4.34010264e-13 8.17523038e-13 1.53992653e-12\n",
      " 2.90068120e-12 5.46386550e-12 1.02920053e-11 1.93865264e-11\n",
      " 3.65174127e-11 6.87859912e-11 1.29568670e-10 2.44061907e-10\n",
      " 4.59726989e-10 8.65964323e-10 1.63117291e-09 3.07255737e-09\n",
      " 5.78761988e-09 1.09018449e-08 2.05352503e-08 3.86812055e-08\n",
      " 7.28618175e-08 1.37246096e-07]\n"
     ]
    }
   ],
   "source": [
    "print(bin_centers)"
   ],
   "metadata": {
    "collapsed": false,
    "ExecuteTime": {
     "end_time": "2024-03-12T15:50:42.964222Z",
     "start_time": "2024-03-12T15:50:42.936760Z"
    }
   },
   "id": "5be6c073282bb6be",
   "execution_count": 167
  },
  {
   "cell_type": "code",
   "outputs": [],
   "source": [
    "# Sample point-sources from the dNdF\n",
    "fvals = np.logspace(-12.5, -9.0, 1000)\n",
    "sampler = PDFSampler(fvals, dNdF(fvals, Ag[i], Fbg[i], n1g[i], n2g[i]))\n",
    "samples = sampler(n_ps)"
   ],
   "metadata": {
    "collapsed": false,
    "ExecuteTime": {
     "end_time": "2024-03-12T15:50:43.028100Z",
     "start_time": "2024-03-12T15:50:42.995008Z"
    }
   },
   "id": "180e4752d35affdd",
   "execution_count": 168
  },
  {
   "cell_type": "code",
   "outputs": [
    {
     "name": "stdout",
     "output_type": "stream",
     "text": [
      "True integral on fine grid:  0.9873442514188882\n"
     ]
    }
   ],
   "source": [
    "# Evaluate the true PDF\n",
    "true_integral = np.trapz(dNdF(fvals, Ag[i], Fbg[i], n1g[i], n2g[i]) / N_tot[i], fvals)\n",
    "true_pdf = dNdF(fvals, Ag[i], Fbg[i], n1g[i], n2g[i]) / N_tot[i]\n",
    "print(\"True integral on fine grid: \", true_integral)"
   ],
   "metadata": {
    "collapsed": false,
    "ExecuteTime": {
     "end_time": "2024-03-12T15:50:43.076893Z",
     "start_time": "2024-03-12T15:50:43.053859Z"
    }
   },
   "id": "ac86ccd2b80dc11a",
   "execution_count": 169
  },
  {
   "cell_type": "code",
   "outputs": [
    {
     "name": "stdout",
     "output_type": "stream",
     "text": [
      "True integral at bin centers:  1.0311874715128464\n"
     ]
    }
   ],
   "source": [
    "# Do the same, but at the bin centers\n",
    "true_pdf_at_bin_centers = dNdF(bin_centers, Ag[i], Fbg[i], n1g[i], n2g[i]) / N_tot[i]\n",
    "true_integral_at_bin_centers = np.trapz(true_pdf_at_bin_centers, bin_centers)\n",
    "print(\"True integral at bin centers: \", true_integral_at_bin_centers)"
   ],
   "metadata": {
    "collapsed": false,
    "ExecuteTime": {
     "end_time": "2024-03-12T15:50:43.124735Z",
     "start_time": "2024-03-12T15:50:43.104090Z"
    }
   },
   "id": "1e95862c74abf2f4",
   "execution_count": 170
  },
  {
   "cell_type": "code",
   "outputs": [
    {
     "data": {
      "text/plain": "<Figure size 720x504 with 1 Axes>",
      "image/png": "[encoded data removed]"
     },
     "metadata": {
      "needs_background": "light"
     },
     "output_type": "display_data"
    }
   ],
   "source": [
    "# Plot\n",
    "plt.figure(figsize=(10, 7))\n",
    "plt.hist(samples, bins=bins_dndf, histtype='step', weights=np.ones_like(samples), label=\"Histogram\")\n",
    "plt.plot(fvals, true_pdf, label=\"True dNdF\")\n",
    "plt.legend()\n",
    "plt.xscale(\"log\")\n",
    "plt.yscale(\"log\")"
   ],
   "metadata": {
    "collapsed": false,
    "ExecuteTime": {
     "end_time": "2024-03-12T15:50:43.863314Z",
     "start_time": "2024-03-12T15:50:43.145450Z"
    }
   },
   "id": "c39e68e95a990a42",
   "execution_count": 171
  },
  {
   "cell_type": "code",
   "outputs": [],
   "source": [
    "# Now, generate a histogram in the way that I do it for the NN\n",
    "flux_hist, bin_edges = np.histogram(samples, weights=samples ** power_of_f_dndf, bins=bins_dndf)"
   ],
   "metadata": {
    "collapsed": false,
    "ExecuteTime": {
     "end_time": "2024-03-12T15:50:43.889931Z",
     "start_time": "2024-03-12T15:50:43.864742Z"
    }
   },
   "id": "4b47d7436c31fe3b",
   "execution_count": 172
  },
  {
   "cell_type": "code",
   "outputs": [
    {
     "name": "stdout",
     "output_type": "stream",
     "text": [
      "Sum of histogram:  1.4252103097767683e-07\n",
      "Sum of fluxes:  1.425210309776806e-07\n"
     ]
    }
   ],
   "source": [
    "print(\"Sum of histogram: \", np.sum(flux_hist))\n",
    "print(\"Sum of fluxes: \", np.sum(samples))"
   ],
   "metadata": {
    "collapsed": false,
    "ExecuteTime": {
     "end_time": "2024-03-12T15:50:43.905894Z",
     "start_time": "2024-03-12T15:50:43.890899Z"
    }
   },
   "id": "4be48a3684b66a0e",
   "execution_count": 173
  },
  {
   "cell_type": "code",
   "outputs": [
    {
     "name": "stdout",
     "output_type": "stream",
     "text": [
      "Sum of normalized histogram:  1.4252103097767683e-07\n"
     ]
    }
   ],
   "source": [
    "# Normalize the histogram\n",
    "neural_network_hist = flux_hist / flux_hist.sum()\n",
    "print(\"Sum of normalized histogram: \", np.sum(flux_hist))"
   ],
   "metadata": {
    "collapsed": false,
    "ExecuteTime": {
     "end_time": "2024-03-12T15:50:43.921161Z",
     "start_time": "2024-03-12T15:50:43.907130Z"
    }
   },
   "id": "6ad9fd586c77ed02",
   "execution_count": 174
  },
  {
   "cell_type": "markdown",
   "source": [
    "## At this point, neural_network_hist is a histogram like those that I use in the NN. Let's now try to restore the dNdF from this histogram."
   ],
   "metadata": {
    "collapsed": false
   },
   "id": "c41edce04ea941cf"
  },
  {
   "cell_type": "code",
   "outputs": [],
   "source": [
    "total_ps_flux = np.sum(samples)  # let's assume we perfectly know the total flux"
   ],
   "metadata": {
    "collapsed": false,
    "ExecuteTime": {
     "end_time": "2024-03-12T15:50:43.936965Z",
     "start_time": "2024-03-12T15:50:43.921868Z"
    }
   },
   "id": "137603ed2dfa67c3",
   "execution_count": 175
  },
  {
   "cell_type": "code",
   "outputs": [],
   "source": [
    "# Restore the dNdF from flux_hist\n",
    "dNdF_restored_step_1 = flux_hist * total_ps_flux  # Step 1) multiply by the total flux\n",
    "dNdF_restored_step_2 = dNdF_restored_step_1 / np.diff(bin_edges)  # Step 2) divide by the bin width\n",
    "dNdF_restored_integral = np.trapz(dNdF_restored_step_2, bin_centers)  # compute the integral of the restored dNdF\n",
    "dNdF_restored_step_3 = dNdF_restored_step_2 / dNdF_restored_integral  # normalize the restored dNdF: now, it integrates to 1, BUT: should integrate to N!\n",
    "reconstructed_flux = np.trapz(dNdF_restored_step_3 * bin_centers, bin_centers)  # compute the total flux"
   ],
   "metadata": {
    "collapsed": false,
    "ExecuteTime": {
     "end_time": "2024-03-12T15:50:43.952274Z",
     "start_time": "2024-03-12T15:50:43.938164Z"
    }
   },
   "id": "b31b6c1640dda42",
   "execution_count": 176
  },
  {
   "cell_type": "code",
   "outputs": [
    {
     "data": {
      "text/plain": "<matplotlib.legend.Legend at 0x73d063fd7a30>"
     },
     "execution_count": 177,
     "metadata": {},
     "output_type": "execute_result"
    },
    {
     "data": {
      "text/plain": "<Figure size 720x504 with 1 Axes>",
      "image/png": "[encoded data removed]"
     },
     "metadata": {
      "needs_background": "light"
     },
     "output_type": "display_data"
    }
   ],
   "source": [
    "plt.figure(figsize=(10, 7))\n",
    "plt.loglog(fvals, 1/N_tot[i]*dNdF(fvals, Ag[i], Fbg[i], n1g[i], n2g[i]), label=\"True dNdF\")\n",
    "plt.loglog(bin_centers, dNdF_restored_step_3, label=\"Restored\")\n",
    "plt.legend()"
   ],
   "metadata": {
    "collapsed": false,
    "ExecuteTime": {
     "end_time": "2024-03-12T15:50:44.573312Z",
     "start_time": "2024-03-12T15:50:43.953092Z"
    }
   },
   "id": "871c0e42537093cf",
   "execution_count": 177
  }
 ],
 "metadata": {
  "kernelspec": {
   "display_name": "Python 3",
   "language": "python",
   "name": "python3"
  },
  "language_info": {
   "codemirror_mode": {
    "name": "ipython",
    "version": 2
   },
   "file_extension": ".py",
   "mimetype": "text/x-python",
   "name": "python",
   "nbconvert_exporter": "python",
   "pygments_lexer": "ipython2",
   "version": "2.7.6"
  }
 },
 "nbformat": 4,
 "nbformat_minor": 5
}
